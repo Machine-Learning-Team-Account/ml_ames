{
 "cells": [
  {
   "cell_type": "markdown",
   "metadata": {},
   "source": [
    "## Ames Data Cleaning and Standardization"
   ]
  },
  {
   "cell_type": "code",
   "execution_count": 1,
   "metadata": {},
   "outputs": [],
   "source": [
    "import pandas as pd\n",
    "import numpy as np\n",
    "from sklearn import preprocessing\n",
    "import matplotlib.pyplot as plt\n",
    "import seaborn as sns\n",
    "from sklearn.preprocessing import OrdinalEncoder\n",
    "from sklearn.model_selection import train_test_split\n",
    "from sklearn.linear_model import Ridge, Lasso, ElasticNet, LinearRegression"
   ]
  },
  {
   "cell_type": "code",
   "execution_count": 2,
   "metadata": {},
   "outputs": [],
   "source": [
    "ames_raw = pd.read_csv('../NYCDSA/Project 3 - Machine Learning/data/Ames_Housing_2.csv', index_col=0)"
   ]
  },
  {
   "cell_type": "markdown",
   "metadata": {},
   "source": [
    "Backup so we can always start over"
   ]
  },
  {
   "cell_type": "code",
   "execution_count": 3,
   "metadata": {},
   "outputs": [],
   "source": [
    "ames_working = ames_raw.copy()"
   ]
  },
  {
   "cell_type": "markdown",
   "metadata": {},
   "source": [
    "Remove spaces so column names are easier to work with"
   ]
  },
  {
   "cell_type": "code",
   "execution_count": 4,
   "metadata": {},
   "outputs": [],
   "source": [
    "ames_working.columns = ames_working.columns.str.replace(\" \", \"_\")"
   ]
  },
  {
   "cell_type": "markdown",
   "metadata": {},
   "source": [
    "Impute all missing data so no NaN valus remain"
   ]
  },
  {
   "cell_type": "code",
   "execution_count": 5,
   "metadata": {},
   "outputs": [],
   "source": [
    "ames_working['Pool_QC'] = ames_working['Pool_QC'].replace(np.nan, 'NA')\n",
    "ames_working['Alley'] = ames_working['Alley'].replace(np.nan, 'NA')\n",
    "ames_working['Fence'] = ames_working['Fence'].replace(np.nan, 'NA')\n",
    "ames_working['Fireplace_Qu'] = ames_working['Fireplace_Qu'].replace(np.nan, 'NA')\n",
    "ames_working.loc[ames_working['PID'] == 903426160, 'Garage_Cond'] = 'TA'\n",
    "ames_working.loc[ames_working['PID'] == 903426160, 'Garage_Finish'] = 'Unf'\n",
    "ames_working.loc[ames_working['PID'] == 903426160, 'Garage_Qual'] = 'TA'\n",
    "ames_working.loc[ames_working['PID'] == 903426160, 'Garage_Yr_Blt'] = ames_working.loc[ames_working['PID'] == 903426160, 'Year_Built']\n",
    "ames_working.loc[ames_working['PID'] == 910201180, 'Garage_Type'] = np.nan\n",
    "ames_working['Garage_Finish'] = ames_working['Garage_Finish'].replace(np.nan, 'NA')\n",
    "ames_working['Garage_Type'] = ames_working['Garage_Type'].replace(np.nan, 'NA')\n",
    "ames_working['Garage_Qual'] = ames_working['Garage_Qual'].replace(np.nan, 'NA')\n",
    "ames_working['Garage_Cond'] = ames_working['Garage_Cond'].replace(np.nan, 'NA')\n",
    "ames_working['Garage_Cars'] = ames_working['Garage_Cars'].replace(np.nan, 0)\n",
    "ames_working['Garage_Area'] = ames_working['Garage_Area'].replace(np.nan, 0)\n",
    "ames_working.loc[ames_working['PID'].isin([907194130, 528445060, 528458090]), 'Bsmt_Exposure'] = 'No'\n",
    "ames_working['Bsmt_Exposure'] = ames_working['Bsmt_Exposure'].replace(np.nan, 'NA')\n",
    "ames_working.loc[ames_working['PID'].isin([528142130]), 'BsmtFin_Type_2'] = 'Unf'\n",
    "ames_working['BsmtFin_Type_2'] = ames_working['BsmtFin_Type_2'].replace(np.nan, 'NA')\n",
    "ames_working['Bsmt_Cond'] = ames_working['Bsmt_Cond'].replace(np.nan, 'NA')\n",
    "ames_working['Bsmt_Qual'] = ames_working['Bsmt_Qual'].replace(np.nan, 'NA')\n",
    "ames_working['BsmtFin_Type_1'] = ames_working['BsmtFin_Type_1'].replace(np.nan, 'NA')\n",
    "ames_working['Bsmt_Full_Bath'] = ames_working['Bsmt_Full_Bath'].replace(np.nan, 0)\n",
    "ames_working['Bsmt_Half_Bath'] = ames_working['Bsmt_Half_Bath'].replace(np.nan, 0)\n",
    "ames_working['Total_Bsmt_SF'] = ames_working['Total_Bsmt_SF'].replace(np.nan, 0)\n",
    "ames_working['BsmtFin_SF_2'] = ames_working['BsmtFin_SF_2'].replace(np.nan, 0)\n",
    "ames_working['Bsmt_Unf_SF'] = ames_working['Bsmt_Unf_SF'].replace(np.nan, 0)\n",
    "ames_working['BsmtFin_SF_1'] = ames_working['BsmtFin_SF_1'].replace(np.nan, 0)\n",
    "ames_working['Misc_Feature'] = ames_working['Misc_Feature'].replace(np.nan, 'NA')\n",
    "ames_working['Mas_Vnr_Area'] = ames_working['Mas_Vnr_Area'].replace(np.nan, 0)\n",
    "ames_working['Mas_Vnr_Type'] = ames_working['Mas_Vnr_Type'].replace(np.nan, 'None')\n",
    "ames_working['Electrical'] = ames_working['Electrical'].replace(np.nan, 'SBrkr')\n"
   ]
  },
  {
   "cell_type": "code",
   "execution_count": null,
   "metadata": {},
   "outputs": [],
   "source": [
    "ames_working['Lot_Frontage'].value_counts()\n",
    "ames_working[['Lot_Config', 'Lot_Frontage']].drop_duplicates()\n",
    "ames_working[ames_working['Lot_Frontage'].isnull()][['Lot_Config', 'Lot_Frontage', 'Lot_Shape']].drop_duplicates()\n",
    "ames_working.groupby(['Lot_Config', 'Lot_Shape'])['Lot_Frontage'].agg(['count', 'mean', 'min', 'max'])\n",
    "lot_dict = ames_working.groupby(['Lot_Config', 'Lot_Shape'])['Lot_Frontage'].agg(['mean']).to_dict()['mean']\n",
    "impute_index = ames_working['Lot_Frontage'].isnull()\n",
    "ames_working.loc[impute_index, 'Lot_Frontage'] = ames_working[impute_index].apply(lambda x:lot_dict[(x['Lot_Config'], x['Lot_Shape'])], axis=1)\n"
   ]
  },
  {
   "cell_type": "code",
   "execution_count": null,
   "metadata": {},
   "outputs": [],
   "source": [
    "ames_working['Has_Garage'] = 0\n",
    "ames_working.loc[~ames_working['Garage_Yr_Blt'].isnull(), 'Has_Garage'] = 1\n",
    "ames_working['Garage_Yr_Blt'] = ames_working['Garage_Yr_Blt'].replace(np.nan, ames_working['Garage_Yr_Blt'].min() - 1)\n",
    "min_max_scaler = preprocessing.MinMaxScaler()\n",
    "ames_working['Garage_Yr_Blt'] = min_max_scaler.fit_transform(ames_working[['Garage_Yr_Blt']])\n"
   ]
  },
  {
   "cell_type": "markdown",
   "metadata": {},
   "source": [
    "Remove outliers and other records that won't be relevant to our goal"
   ]
  },
  {
   "cell_type": "code",
   "execution_count": null,
   "metadata": {},
   "outputs": [],
   "source": [
    "ames_trimmed = ames_working.copy()"
   ]
  },
  {
   "cell_type": "code",
   "execution_count": null,
   "metadata": {},
   "outputs": [],
   "source": [
    "ames_trimmed = ames_trimmed[ames_trimmed['Gr_Liv_Area'] < 4500] # dropping huge house that sold for well below market - feeling is that it was not finished\n",
    "ames_trimmed = ames_trimmed[ames_trimmed['Sale_Condition'] != 'Abnorml'] #abnormal sale condition may not reflect true value\n",
    "ames_trimmed = ames_trimmed[ames_trimmed['Sale_Condition'] != 'Family']#sales to family members likely not full open market value\n",
    "ames_trimmed = ames_trimmed[ames_trimmed['Sale_Condition'] != 'AdjLand']#sales of adjacent land that is not built on\n",
    "\n",
    "ames_trimmed = ames_trimmed[ames_trimmed['MS_Zoning'] != 'C (all)']\n",
    "#These appear to be Commercial\n",
    "ames_trimmed = ames_trimmed[ames_trimmed['MS_Zoning'] != 'I (all)']\n",
    "#These appear to be Industrial\n",
    "ames_trimmed = ames_trimmed[ames_trimmed['MS_Zoning'] != 'A (agr)']\n",
    "#These appear to be agricultural\n"
   ]
  },
  {
   "cell_type": "markdown",
   "metadata": {},
   "source": [
    "### Feature Encoding"
   ]
  },
  {
   "cell_type": "markdown",
   "metadata": {},
   "source": [
    "General Ordinal function"
   ]
  },
  {
   "cell_type": "code",
   "execution_count": null,
   "metadata": {},
   "outputs": [],
   "source": [
    "def condition_quality_ordinals(df, col_list):\n",
    "    for col in col_list:\n",
    "        df[col] = df[col].map({'NA' : 0.0, 'Po' : 1.0, 'Fa' : 2.0, 'TA' : 3.0, 'Gd' : 4.0, 'Ex' : 5.0})\n",
    "        df[col] = pd.to_numeric(df[col])\n",
    "        df[col] = df[col].fillna(0)\n"
   ]
  },
  {
   "cell_type": "code",
   "execution_count": null,
   "metadata": {},
   "outputs": [],
   "source": [
    "ames_encoded = ames_trimmed.copy()"
   ]
  },
  {
   "cell_type": "markdown",
   "metadata": {},
   "source": [
    "Garage Features"
   ]
  },
  {
   "cell_type": "code",
   "execution_count": null,
   "metadata": {},
   "outputs": [],
   "source": [
    "condition_quality_ordinals(ames_encoded, ['Garage_Cond', 'Garage_Qual'])\n",
    "\n",
    "dummy = pd.get_dummies(ames_encoded['Garage_Type'], prefix='Garage_Type')\n",
    "dummy.drop('Garage_Type_Attchd', axis=1, inplace=True)\n",
    "ames_encoded = ames_encoded.drop('Garage_Type', axis=1)\n",
    "ames_encoded = pd.concat([ames_encoded, dummy], axis=1)\n",
    "\n",
    "ames_encoded['Garage_Finish'] = ames_encoded['Garage_Finish'].map({'NA' : 0.0, 'Unf' : 1.0, 'RFn' : 2.0, 'Fin' : 3.0})\n",
    "ames_encoded['Garage_Finish'] = pd.to_numeric(ames_encoded['Garage_Finish'])\n",
    "ames_encoded['Garage_Finish'] = ames_encoded['Garage_Finish'].fillna(0)\n"
   ]
  },
  {
   "cell_type": "markdown",
   "metadata": {},
   "source": [
    "Basement Features"
   ]
  },
  {
   "cell_type": "code",
   "execution_count": null,
   "metadata": {},
   "outputs": [],
   "source": [
    "condition_quality_ordinals(ames_encoded, ['Bsmt_Cond', 'Bsmt_Qual'])\n",
    "\n",
    "ames_encoded['Bsmt_Exposure'] = ames_encoded['Bsmt_Exposure'].map({'NA' : 0.0, 'No' : 1.0, 'Mn' : 2.0, 'Av' : 3.0, 'Gd' : 4.0})\n",
    "ames_encoded['Bsmt_Exposure'] = pd.to_numeric(ames_encoded['Bsmt_Exposure'])\n",
    "ames_encoded['Bsmt_Exposure'] = ames_encoded['Bsmt_Exposure'].fillna(0)\n",
    "\n",
    "ames_encoded['BsmtFin_Type_1'] = ames_encoded['BsmtFin_Type_1'].map({'NA' : 0.0, 'UnF' : 1.0, 'LwQ' : 2.0, 'Rec' : 3.0, 'BLQ' : 4.0, 'ALQ' : 5.0, 'GLQ' : 6.0})\n",
    "ames_encoded['BsmtFin_Type_1'] = pd.to_numeric(ames_encoded['BsmtFin_Type_1'])\n",
    "ames_encoded['BsmtFin_Type_1'] = ames_encoded['BsmtFin_Type_1'].fillna(0)\n",
    "\n",
    "ames_encoded['BsmtFin_Type_2'] = ames_encoded['BsmtFin_Type_2'].map({'NA' : 0.0, 'UnF' : 1.0, 'LwQ' : 2.0, 'Rec' : 3.0, 'BLQ' : 4.0, 'ALQ' : 5.0, 'GLQ' : 6.0})\n",
    "ames_encoded['BsmtFin_Type_2'] = pd.to_numeric(ames_encoded['BsmtFin_Type_2'])\n",
    "ames_encoded['BsmtFin_Type_2'] = ames_encoded['BsmtFin_Type_2'].fillna(0)\n"
   ]
  },
  {
   "cell_type": "markdown",
   "metadata": {},
   "source": [
    "Remaining Feature Encoding"
   ]
  },
  {
   "cell_type": "code",
   "execution_count": null,
   "metadata": {},
   "outputs": [],
   "source": [
    "# Do we want to combine Condition_1 and Condition_2 in some way?\n",
    "# Try Street as Binary\n",
    "\n",
    "encode_col = ['MS_Zoning', 'Street', 'Lot_Shape', 'Land_Contour', 'Lot_Config', 'Land_Slope', 'Roof_Style', 'Exterior_1st', 'Mas_Vnr_Type', 'Foundation', 'Heating', 'Electrical', 'Condition_1', 'Condition_2', 'Bldg_Type', 'Roof_Matl', 'Exterior_2nd', 'Fence', 'Misc_Feature', 'Sale_Type', 'Sale_Condition']\n",
    "for feature in encode_col:\n",
    "    most_common = str(pd.DataFrame(ames_encoded[feature].value_counts()).index[0])\n",
    "    dummy = pd.get_dummies(ames_encoded[feature], prefix=feature)\n",
    "    dummy.drop(feature+\"_\"+most_common, axis=1, inplace=True)\n",
    "    ames_encoded = ames_encoded.drop(feature, axis=1)\n",
    "    ames_encoded = pd.concat([ames_encoded, dummy], axis=1)\n",
    "\n",
    "    "
   ]
  },
  {
   "cell_type": "code",
   "execution_count": null,
   "metadata": {},
   "outputs": [],
   "source": [
    "# Does it matter for these options which don't have an NA value?\n",
    "# They will start at 1, not 0\n",
    "\n",
    "condition_quality_ordinals(ames_encoded, ['Kitchen_Qual', 'Fireplace_Qu', 'Heating_QC', 'Exter_Qual', 'Exter_Cond', 'Pool_QC'])\n",
    "\n",
    "ames_encoded['Central_Air'] = ames_encoded['Central_Air'].map({'N' : 0.0, 'Y' : 1.0})\n",
    "ames_encoded['Central_Air'] = pd.to_numeric(ames_encoded['Central_Air'])\n",
    "\n",
    "ames_encoded['Alley'] = ames_encoded['Alley'].map({'NA' : 0.0, 'Grvl' : 1.0, 'Pave' : 2.0})\n",
    "ames_encoded['Alley'] = pd.to_numeric(ames_encoded['Alley'])\n",
    "\n",
    "ames_encoded['Paved_Drive'] = ames_encoded['Paved_Drive'].map({'N' : 0.0, 'P' : 1.0, 'Y' : 2.0})\n",
    "ames_encoded['Paved_Drive'] = pd.to_numeric(ames_encoded['Paved_Drive'])\n",
    "\n",
    "ames_encoded['Utilities'] = ames_encoded['Utilities'].map({'ELO' : 0.0, 'NoSeWa' : 1.0, 'NoSewr' : 2.0, 'AllPub' : 3.0})\n",
    "ames_encoded['Utilities'] = pd.to_numeric(ames_encoded['Utilities'])\n",
    "\n",
    "ames_encoded['Functional'] = ames_encoded['Functional'].map({'Typ' : 0.0, 'Min1' : -1.0, 'Min2' : -2.0, 'Mod' : -3.0, 'Maj1' : -4.0, 'Maj2' : -5.0, 'Sev' : -6.0, 'Sal' : -7.0})\n",
    "ames_encoded['Functional'] = pd.to_numeric(ames_encoded['Functional'])\n",
    "    \n",
    "# \n",
    "ames_encoded['House_Style'] = ames_encoded['House_Style'].map({'1Story' : 1.0, '2Story' : 2.0, '1.5Fin' : 1.5, 'SLvl' : 1.5, 'SFoyer' : 2.0, '2.5Unf' : 2.5, '1.5Unf' : 1.5, '2.5Fin' : 2.5})\n",
    "ames_encoded.rename(columns = {'House_Style':'Number_Stories'}, inplace = True)\n"
   ]
  },
  {
   "cell_type": "markdown",
   "metadata": {},
   "source": [
    "## New Feature for Total Area\n",
    "\n",
    "Comment out to keep original separate Areas"
   ]
  },
  {
   "cell_type": "code",
   "execution_count": null,
   "metadata": {},
   "outputs": [],
   "source": [
    "# ames_encoded['Total_Area'] = ames_encoded['Gr_Liv_Area'] + ames_encoded['Total_Bsmt_SF'] + ames_encoded['Garage_Area']\n",
    "\n",
    "# # Take the log?\n",
    "# ames_encoded['Total_Area'] = np.log(ames_encoded['Total_Area'])\n"
   ]
  },
  {
   "cell_type": "markdown",
   "metadata": {},
   "source": [
    "## Train Test Split"
   ]
  },
  {
   "cell_type": "code",
   "execution_count": null,
   "metadata": {},
   "outputs": [],
   "source": [
    "ames_encoded['Neighborhood'].value_counts()\n",
    "\n",
    "ames_hoods = ames_encoded.copy()\n",
    "\n",
    "# #Remove Neighborhoods with too few options\n",
    "# #Explored these, their values alone seem to make sense\n",
    "ames_hoods = ames_hoods.loc[~ames_hoods['Neighborhood'].isin(['Landmrk'])]\n",
    "\n",
    "# #Split for base Train/Test\n",
    "Ames_train, Ames_test, Ames_target_train, Ames_target_test = train_test_split(ames_hoods, ames_hoods['SalePrice'], random_state = 42, stratify = ames_hoods['Neighborhood'])\n"
   ]
  },
  {
   "cell_type": "code",
   "execution_count": null,
   "metadata": {},
   "outputs": [],
   "source": [
    "type(Ames_train)"
   ]
  },
  {
   "cell_type": "markdown",
   "metadata": {},
   "source": [
    "## Trimmed down columns"
   ]
  },
  {
   "cell_type": "code",
   "execution_count": null,
   "metadata": {},
   "outputs": [],
   "source": [
    "ames_trimmed = Ames_train.copy()"
   ]
  },
  {
   "cell_type": "code",
   "execution_count": null,
   "metadata": {},
   "outputs": [],
   "source": [
    "# ames_trimmed.drop(['Sale_Type', \n",
    "#                            'Mas_Vnr_Area', \n",
    "#                            'Exter_Cond', \n",
    "#                            'Exterior_2nd', \n",
    "#                            '3Ssn_Porch', \n",
    "#                            'Screen_Porch', \n",
    "#                            'Garage_Qual', \n",
    "#                            'Garage_Cond', \n",
    "#                            'Bsmt_Cond', \n",
    "#                            'BsmtFin_Type_2', \n",
    "#                            'Bsmt_Half_Bath',\n",
    "#                            'Alley', \n",
    "#                            'Pool_QC', \n",
    "#                            'Fence', \n",
    "#                            'Misc_Val'], axis=1, inplace=True)"
   ]
  },
  {
   "cell_type": "code",
   "execution_count": null,
   "metadata": {},
   "outputs": [],
   "source": [
    "# ames_trimmed.drop(['Sale_Type', 'Mas_Vnr_Area', 'Exter_Cond', 'Exterior_2nd', '3Ssn_Porch', 'Screen_Porch', 'Garage_Qual', 'Garage_Cond', 'Bsmt_Cond', 'BsmtFin_Type_2', 'Bsmt_Half_Bath','Alley', 'Pool_QC', 'Fence', 'Misc_Val'], axis=1, inplace=True)\n",
    "# ames_trimmed.drop('Kitchen_AbvGr', axis=1, inplace=True)\n",
    "# ames_trimmed.drop(['Bldg_Type', 'Sale_Condition'], axis=1, inplace=True)\n",
    "# ames_trimmed.drop(['Yr_Sold', 'Year_Built', 'Year_Remod/Add'], axis=1, inplace=True)\n",
    "# ames_trimmed.drop(['Condition_1', 'Condition_2'], axis=1, inplace=True)\n",
    "# ames_trimmed.drop('Roof_Matl', axis=1, inplace=True)\n",
    "# ames_trimmed.drop('Misc_Feature', axis=1, inplace=True)\n",
    "# ames_trimmed.drop('PID', axis=1, inplace=True)\n",
    "# ames_trimmed.drop('Utilities', axis=1, inplace=True)\n",
    "# ames_trimmed.drop('Functional', axis=1, inplace=True)\n",
    "# ames_trimmed.drop('Paved_Drive', axis=1, inplace=True)\n",
    "# # ames_trimmed.drop(['Remodel_Bin', 'How_Old_Bin', 'Garage_Gr_Liv_Area', 'Garage_1st_Flr_SF', 'Fireplace_Story'], axis=1, inplace=True)\n",
    "# ames_trimmed.drop('MS_SubClass', axis=1, inplace=True)\n",
    "\n",
    "# ames_trimmed.drop(['BsmtFin_SF_1', '1st_Flr_SF'], axis=1, inplace=True)"
   ]
  },
  {
   "cell_type": "markdown",
   "metadata": {},
   "source": [
    "Update Test data in the same way"
   ]
  },
  {
   "cell_type": "code",
   "execution_count": null,
   "metadata": {},
   "outputs": [],
   "source": [
    "# Ames_test.drop(['Sale_Type', 'Mas_Vnr_Area', 'Exter_Cond', 'Exterior_2nd', '3Ssn_Porch', 'Screen_Porch', 'Garage_Qual', 'Garage_Cond', 'Bsmt_Cond', 'BsmtFin_Type_2', 'Bsmt_Half_Bath','Alley', 'Pool_QC', 'Fence', 'Misc_Val'], axis=1, inplace=True)\n",
    "# Ames_test.drop('Kitchen_AbvGr', axis=1, inplace=True)\n",
    "# Ames_test.drop(['Bldg_Type', 'Sale_Condition'], axis=1, inplace=True)\n",
    "# Ames_test.drop(['Yr_Sold', 'Year_Built', 'Year_Remod/Add'], axis=1, inplace=True)\n",
    "# Ames_test.drop(['Condition_1', 'Condition_2'], axis=1, inplace=True)\n",
    "# Ames_test.drop('Roof_Matl', axis=1, inplace=True)\n",
    "# Ames_test.drop('Misc_Feature', axis=1, inplace=True)\n",
    "# Ames_test.drop('PID', axis=1, inplace=True)\n",
    "# Ames_test.drop('Utilities', axis=1, inplace=True)\n",
    "# Ames_test.drop('Functional', axis=1, inplace=True)\n",
    "# Ames_test.drop('Paved_Drive', axis=1, inplace=True)\n",
    "# # Ames_test.drop(['Remodel_Bin', 'How_Old_Bin', 'Garage_Gr_Liv_Area', 'Garage_1st_Flr_SF', 'Fireplace_Story'], axis=1, inplace=True)\n",
    "# Ames_test.drop('MS_SubClass', axis=1, inplace=True)\n",
    "\n",
    "# Ames_test.drop(['BsmtFin_SF_1', '1st_Flr_SF'], axis=1, inplace=True)"
   ]
  },
  {
   "cell_type": "code",
   "execution_count": null,
   "metadata": {
    "scrolled": true
   },
   "outputs": [],
   "source": [
    "pd.DataFrame(ames_trimmed.dtypes)[0].value_counts()\n",
    "ames_trimmed.select_dtypes(exclude=['float', 'int', 'uint8'])"
   ]
  },
  {
   "cell_type": "code",
   "execution_count": null,
   "metadata": {},
   "outputs": [],
   "source": [
    "ames_trimmed.head(10)"
   ]
  },
  {
   "cell_type": "markdown",
   "metadata": {},
   "source": [
    "## Feature Engineering"
   ]
  },
  {
   "cell_type": "code",
   "execution_count": null,
   "metadata": {},
   "outputs": [],
   "source": [
    "ames_engineered = ames_trimmed.copy()"
   ]
  },
  {
   "cell_type": "code",
   "execution_count": null,
   "metadata": {},
   "outputs": [],
   "source": [
    "ames_engineered['PPSF'] = ames_engineered['SalePrice'] / ames_engineered['Gr_Liv_Area']\n",
    "\n",
    "data = pd.concat([ames_engineered.groupby('Neighborhood').mean()['PPSF']], axis = 1)\n",
    "\n",
    "f, ax = plt.subplots()\n",
    "\n",
    "sns.stripplot(data.sort_values(by='PPSF').PPSF, data.sort_values(by='PPSF').index, orient='h', color='red');"
   ]
  },
  {
   "cell_type": "code",
   "execution_count": null,
   "metadata": {},
   "outputs": [],
   "source": [
    "# Number_of_Neighborhood_Clusters = 4\n",
    "\n",
    "# hood_means = data.sort_values(by='PPSF').PPSF\n",
    "\n",
    "# from sklearn.cluster import KMeans\n",
    "# kmeans = KMeans(n_clusters=Number_of_Neighborhood_Clusters, random_state=42).fit(hood_means.values.reshape(-1, 1))\n",
    "\n",
    "# hood_clusters = pd.concat([hood_means, pd.Series(kmeans.labels_, index=hood_means.index, name='Cluster')], axis = 1)\n",
    "\n",
    "# def neighborhood_to_cluster(neigh_string):\n",
    "#     return int(hood_clusters[ hood_clusters.index==neigh_string ]['Cluster'].values)\n",
    "\n",
    "# ames_engineered['Neighborhood'] =  ames_engineered['Neighborhood'].apply(neighborhood_to_cluster)\n",
    "\n",
    "# ppsf_dict = ames_engineered.groupby('Neighborhood_cluster')['PPSF'].agg('mean').to_dict()\n",
    "\n",
    "# ames_engineered['N_PPSF'] = ames_engineered['Neighborhood_cluster'].map(ppsf_dict)\n",
    "\n",
    "# ames_engineered['SP_Guess'] = ames_engineered['N_PPSF'] * ames_engineered['Gr_Liv_Area']\n"
   ]
  },
  {
   "cell_type": "code",
   "execution_count": null,
   "metadata": {},
   "outputs": [],
   "source": [
    "## Change Neighborhood to Neighborhood_Rank\n",
    "\n",
    "ames_engineered['Avg_Psqft'] = ames_engineered['Neighborhood'].map(data.to_dict()['PPSF'])\n",
    "# ames_engineered['AAvg_Psqft_Rank'] = ames_engineered['Avg_Psqft'].rank() \n",
    "\n",
    "# # high level - valuecounts by neighborhood and average price per sq ft by neighborhood\n",
    "ames_nbhood_count = pd.DataFrame(ames_engineered['Neighborhood'].value_counts()).rename(columns = {'Neighborhood' : 'Nbhood_Count'})\n",
    "ames_nbhood_stat = ames_engineered.groupby('Neighborhood').agg({'Gr_Liv_Area' : 'sum', 'SalePrice' : 'sum'})\n",
    "ames_nbhood = pd.concat([ames_nbhood_count, ames_nbhood_stat], axis = 1)\n",
    "ames_nbhood['Avg_Psqft'] = ames_nbhood['SalePrice'] /  ames_nbhood['Gr_Liv_Area']\n",
    "ames_nbhood['Avg_Psqft_Rank'] = ames_nbhood['Avg_Psqft'].rank()\n",
    "\n",
    "n_ppsf_rank = ames_nbhood[['Avg_Psqft_Rank']].to_dict()['Avg_Psqft_Rank']\n",
    "ames_engineered['Neighborhood_Rank'] = ames_engineered['Neighborhood'].map(n_ppsf_rank)\n",
    "\n",
    "ames_engineered.drop(['PPSF', 'Avg_Psqft', 'Neighborhood'], axis=1, inplace=True)\n"
   ]
  },
  {
   "cell_type": "markdown",
   "metadata": {},
   "source": [
    "Apply neighborhood cluster update to Test set"
   ]
  },
  {
   "cell_type": "code",
   "execution_count": null,
   "metadata": {
    "scrolled": true
   },
   "outputs": [],
   "source": [
    "Ames_test['Neighborhood_Rank'] = Ames_test['Neighborhood'].map(n_ppsf_rank)\n",
    "\n",
    "Ames_test.drop('Neighborhood', axis=1, inplace=True)"
   ]
  },
  {
   "cell_type": "markdown",
   "metadata": {},
   "source": [
    "## Feature Generation"
   ]
  },
  {
   "cell_type": "code",
   "execution_count": null,
   "metadata": {},
   "outputs": [],
   "source": [
    "ames_engineered['Neighborhood_Rank'] = ames_engineered['Neighborhood_Rank'] ** 0.5\n",
    "\n",
    "Ames_test['Neighborhood_Rank'] = Ames_test['Neighborhood_Rank'] ** 0.5\n",
    "\n",
    "ames_engineered['OQ_x_NR'] = ames_engineered['Overall_Qual'] * ames_engineered['Neighborhood_Rank']\n",
    "Ames_test['OQ_x_NR'] = Ames_test['Overall_Qual'] * Ames_test['Neighborhood_Rank']\n",
    "\n",
    "ames_engineered.drop(['Neighborhood_Rank', 'Overall_Qual'], axis=1, inplace=True)\n",
    "Ames_test.drop(['Neighborhood_Rank', 'Overall_Qual'], axis=1, inplace=True)\n"
   ]
  },
  {
   "cell_type": "markdown",
   "metadata": {},
   "source": [
    "## Remove Area features if using Total Area"
   ]
  },
  {
   "cell_type": "code",
   "execution_count": null,
   "metadata": {},
   "outputs": [],
   "source": [
    "# ames_engineered.drop(['Gr_Liv_Area', 'Total_Bsmt_SF', 'Garage_Area'], axis=1, inplace=True)\n",
    "# Ames_test.drop(['Gr_Liv_Area', 'Total_Bsmt_SF', 'Garage_Area'], axis=1, inplace=True)"
   ]
  },
  {
   "cell_type": "markdown",
   "metadata": {},
   "source": [
    "## Apply Regression Models"
   ]
  },
  {
   "cell_type": "markdown",
   "metadata": {},
   "source": [
    "Reassign ames_engineered to Ames_train"
   ]
  },
  {
   "cell_type": "code",
   "execution_count": null,
   "metadata": {},
   "outputs": [],
   "source": [
    "Ames_train = ames_engineered.copy()"
   ]
  },
  {
   "cell_type": "code",
   "execution_count": null,
   "metadata": {},
   "outputs": [],
   "source": [
    "Ames_train_final = Ames_train.copy()\n",
    "Ames_test_final = Ames_test.copy()\n",
    "\n",
    "Ames_target_train_final = Ames_target_train.copy()\n",
    "Ames_target_test_final = Ames_target_test.copy()\n",
    "\n",
    "Ames_train_final = Ames_train.drop(['SalePrice'], axis=1)\n",
    "Ames_test_final = Ames_test.drop(['SalePrice'], axis=1)\n",
    "\n",
    "Ames_target_train_final = np.log(Ames_target_train_final)\n",
    "Ames_target_test_final = np.log(Ames_target_test_final)\n"
   ]
  },
  {
   "cell_type": "code",
   "execution_count": null,
   "metadata": {},
   "outputs": [],
   "source": [
    "lasso = Lasso()\n",
    "lasso.set_params(alpha=0, normalize=True, max_iter=2000)\n",
    "lasso.fit(Ames_train_final, Ames_target_train_final) # fit data\n",
    "print(\"The determination of lasso regression is: %.4f\" %lasso.score(Ames_train_final, Ames_target_train_final))"
   ]
  },
  {
   "cell_type": "code",
   "execution_count": null,
   "metadata": {},
   "outputs": [],
   "source": [
    "coefs = []\n",
    "intercepts = []\n",
    "R2 = []\n",
    "alpharange = np.linspace(0, 500, 20)\n",
    "for alpha in alpharange:\n",
    "    lasso.set_params(alpha=alpha, normalize=True, max_iter=2000)\n",
    "    lasso.fit(Ames_train_final, Ames_target_train_final)\n",
    "    intercepts.append(lasso.intercept_)\n",
    "    coefs.append(lasso.coef_)\n",
    "    R2.append(lasso.score(Ames_train_final, Ames_target_train_final))"
   ]
  },
  {
   "cell_type": "code",
   "execution_count": null,
   "metadata": {
    "scrolled": true
   },
   "outputs": [],
   "source": [
    "coefs = pd.DataFrame(np.array(coefs), columns=Ames_train_final.columns)\n",
    "plt.figure(figsize=(20,15)) \n",
    "\n",
    "for name in coefs.columns:\n",
    "    plt.plot(alpharange, coefs[name], label=name)\n",
    "   \n",
    "plt.legend(loc=1)    \n",
    "plt.title('Change of Ridge Slopes Varying Alpha')\n",
    "\n"
   ]
  },
  {
   "cell_type": "code",
   "execution_count": null,
   "metadata": {},
   "outputs": [],
   "source": [
    "train_R2 = []\n",
    "test_R2  = []\n",
    "alphaRange = np.linspace(0,500,20)\n",
    "for alpha in alphaRange:\n",
    "    lasso.set_params(alpha=alpha, normalize=True, max_iter=2000)  \n",
    "    lasso.fit(Ames_train_final, Ames_target_train_final)\n",
    "    train_R2.append(lasso.score(Ames_train_final, Ames_target_train_final))\n",
    "    test_R2.append(lasso.score(Ames_test_final, Ames_target_test_final))"
   ]
  },
  {
   "cell_type": "code",
   "execution_count": null,
   "metadata": {},
   "outputs": [],
   "source": [
    "plt.plot(alphaRange, train_R2, label=r'train set $R^2$')\n",
    "plt.plot(alphaRange, test_R2, label=r'test set $R^2$')\n",
    "plt.legend(loc=4)"
   ]
  },
  {
   "cell_type": "code",
   "execution_count": null,
   "metadata": {},
   "outputs": [],
   "source": [
    "lasso.set_params(alpha=0, normalize=True, max_iter=2000)  \n",
    "lasso.fit(Ames_train_final, Ames_target_train_final)\n",
    "\n",
    "# yhat = lasso.predict(Ames_test)\n",
    "# SS_Residual = sum((Ames_target_test-yhat)**2)       \n",
    "# SS_Total = sum((Ames_target_test-np.mean(Ames_target_test))**2)     \n",
    "# r_squared = 1 - (float(SS_Residual))/SS_Total\n",
    "# adjusted_r_squared = 1 - (1-r_squared)*(len(Ames_target_test)-1)/(len(Ames_target_test)-Ames_test.shape[1]-1)\n",
    "\n",
    "print(lasso.score(Ames_train_final, Ames_target_train_final))\n",
    "print(lasso.score(Ames_test_final, Ames_target_test_final))"
   ]
  },
  {
   "cell_type": "code",
   "execution_count": null,
   "metadata": {},
   "outputs": [],
   "source": [
    "lasso.set_params(alpha=0, normalize=True)\n",
    "lasso.fit(Ames_train_final, Ames_target_train_final)\n",
    "print('The intercept is %.4f' %(lasso.intercept_))\n",
    "lassoCoef = pd.Series(lasso.coef_, index=Ames_train_final.columns)\n",
    "print('The slopes are %s' %(lassoCoef))"
   ]
  },
  {
   "cell_type": "code",
   "execution_count": null,
   "metadata": {},
   "outputs": [],
   "source": [
    "sortedCoefs = np.abs(lassoCoef).sort_values(ascending=False)\n",
    "sortedCoefs.head(10)"
   ]
  },
  {
   "cell_type": "code",
   "execution_count": null,
   "metadata": {},
   "outputs": [],
   "source": [
    "sortedCoefs = np.abs(lassoCoef).sort_values(ascending=False)\n",
    "sortedCoefs_df = pd.DataFrame(sortedCoefs)\n",
    "remaining_coefs = list(sortedCoefs_df.loc[sortedCoefs_df[0] != 0,].index)\n",
    "Ames_train_final[remaining_coefs]"
   ]
  },
  {
   "cell_type": "code",
   "execution_count": null,
   "metadata": {},
   "outputs": [],
   "source": [
    "from sklearn.model_selection import GridSearchCV, KFold\n",
    "\n",
    "params_lasso = [ {'alpha':[0, 1, 10, 50, 100, 150, 200, 250]} ]\n",
    "\n",
    "kf5 = KFold(n_splits = 5, shuffle = True)\n",
    "\n",
    "grid_lasso = GridSearchCV(estimator = lasso, param_grid = params_lasso, cv = 5)\n",
    "\n",
    "grid_lasso.fit(Ames_train_final, Ames_target_train_final)\n",
    "\n",
    "print(f'Best Lasso Score: {grid_lasso.best_score_}')\n"
   ]
  },
  {
   "cell_type": "code",
   "execution_count": null,
   "metadata": {},
   "outputs": [],
   "source": [
    "best_model = grid_lasso.best_estimator_"
   ]
  },
  {
   "cell_type": "code",
   "execution_count": null,
   "metadata": {},
   "outputs": [],
   "source": [
    "best_model.score(Ames_test_final, Ames_target_test_final)"
   ]
  },
  {
   "cell_type": "code",
   "execution_count": null,
   "metadata": {},
   "outputs": [],
   "source": [
    "best_model"
   ]
  },
  {
   "cell_type": "code",
   "execution_count": null,
   "metadata": {},
   "outputs": [],
   "source": [
    "grid_lasso.best_params_"
   ]
  },
  {
   "cell_type": "code",
   "execution_count": null,
   "metadata": {},
   "outputs": [],
   "source": [
    "print('The intercept is %.4f' %(best_model.intercept_))\n",
    "lassoCoef = pd.Series(best_model.coef_, index=Ames_test_final.columns)\n",
    "print('The slopes are %s' %(lassoCoef))"
   ]
  },
  {
   "cell_type": "code",
   "execution_count": null,
   "metadata": {},
   "outputs": [],
   "source": [
    "sortedCoefs = np.abs(lassoCoef).sort_values(ascending=False)\n",
    "sortedCoefs[sortedCoefs > 0]"
   ]
  },
  {
   "cell_type": "code",
   "execution_count": null,
   "metadata": {},
   "outputs": [],
   "source": []
  },
  {
   "cell_type": "code",
   "execution_count": null,
   "metadata": {},
   "outputs": [],
   "source": []
  }
 ],
 "metadata": {
  "kernelspec": {
   "display_name": "Python 3",
   "language": "python",
   "name": "python3"
  },
  "language_info": {
   "codemirror_mode": {
    "name": "ipython",
    "version": 3
   },
   "file_extension": ".py",
   "mimetype": "text/x-python",
   "name": "python",
   "nbconvert_exporter": "python",
   "pygments_lexer": "ipython3",
   "version": "3.7.6"
  }
 },
 "nbformat": 4,
 "nbformat_minor": 4
}
